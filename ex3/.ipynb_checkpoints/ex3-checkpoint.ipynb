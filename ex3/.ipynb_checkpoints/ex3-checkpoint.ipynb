{
 "cells": [
  {
   "cell_type": "markdown",
   "metadata": {},
   "source": [
    "# Machine Learning Online Class - Exercise 3 | Part 1: One-vs-all\n",
    "\n",
    "##  Instructions\n",
    "\n",
    "\n",
    "    This file contains code that helps you get started on the\n",
    "    linear exercise. You will need to complete the following functions\n",
    "    in this exericse:\n",
    "\n",
    "     lrCostFunction.m (logistic regression cost function)\n",
    "     oneVsAll.m\n",
    "     predictOneVsAll.m\n",
    "     predict.m\n",
    "\n",
    "    For this exercise, you will not need to change any code in this file,\n",
    "    or any other files other than those mentioned above.\n",
    "\n"
   ]
  },
  {
   "cell_type": "code",
   "execution_count": 8,
   "metadata": {},
   "outputs": [],
   "source": [
    "%% Initialization\n",
    "clear ; close all; clc\n",
    "\n",
    "%% Setup the parameters you will use for this part of the exercise\n",
    "input_layer_size  = 400;  % 20x20 Input Images of Digits\n",
    "num_labels = 10;          % 10 labels, from 1 to 10\n",
    "                          % (note that we have mapped \"0\" to label 10)"
   ]
  },
  {
   "cell_type": "markdown",
   "metadata": {},
   "source": [
    "## Part 1: Loading and Visualizing Data\n",
    "    We start the exercise by first loading and visualizing the dataset.\n",
    "    You will be working with a dataset that contains handwritten digits."
   ]
  },
  {
   "cell_type": "code",
   "execution_count": 9,
   "metadata": {},
   "outputs": [
    {
     "name": "stdout",
     "output_type": "stream",
     "text": [
      "Loading and Visualizing Data ...\n",
      "Program paused. Press enter to continue.\n"
     ]
    },
    {
     "data": {
      "image/png": "[encoded data removed]",
      "text/plain": [
       "<IPython.core.display.Image object>"
      ]
     },
     "metadata": {},
     "output_type": "display_data"
    }
   ],
   "source": [
    "% Load Training Data\n",
    "fprintf('Loading and Visualizing Data ...\\n')\n",
    "\n",
    "load('ex3data1.mat'); % training data stored in arrays X, y\n",
    "m = size(X, 1);\n",
    "\n",
    "% Randomly select 100 data points to display\n",
    "rand_indices = randperm(m);\n",
    "sel = X(rand_indices(1:100), :);\n",
    "\n",
    "displayData(sel);\n",
    "\n",
    "fprintf('Program paused. Press enter to continue.\\n');\n",
    "%pause;"
   ]
  },
  {
   "cell_type": "markdown",
   "metadata": {},
   "source": [
    "## Part 2a: Vectorize Logistic Regression\n",
    "    In this part of the exercise, you will reuse your logistic regression\n",
    "    code from the last exercise. You task here is to make sure that your\n",
    "    regularized logistic regression implementation is vectorized. After\n",
    "    that, you will implement one-vs-all classification for the handwritten\n",
    "    digit dataset."
   ]
  },
  {
   "cell_type": "code",
   "execution_count": 12,
   "metadata": {},
   "outputs": [
    {
     "name": "stdout",
     "output_type": "stream",
     "text": [
      "\n",
      "Testing lrCostFunction() with regularization\n",
      "\n",
      "Cost: 2.534819\n",
      "Expected cost: 2.534819\n",
      "Gradients:\n",
      " 0.146561 \n",
      " -0.548558 \n",
      " 0.724722 \n",
      " 1.398003 \n",
      "Expected gradients:\n",
      " 0.146561\n",
      " -0.548558\n",
      " 0.724722\n",
      " 1.398003\n",
      "Program paused. Press enter to continue.\n",
      "Testing lrCostFunction() with regularization\n"
     ]
    }
   ],
   "source": [
    "% Test case for lrCostFunction\n",
    "fprintf('\\nTesting lrCostFunction() with regularization');\n",
    "\n",
    "theta_t = [-2; -1; 1; 2];\n",
    "X_t = [ones(5,1) reshape(1:15,5,3)/10];\n",
    "y_t = ([1;0;1;0;1] >= 0.5);\n",
    "lambda_t = 3;\n",
    "[J grad] = lrCostFunction(theta_t, X_t, y_t, lambda_t);\n",
    "\n",
    "fprintf('\\nCost: %f\\n', J);\n",
    "fprintf('Expected cost: 2.534819\\n');\n",
    "fprintf('Gradients:\\n');\n",
    "fprintf(' %f \\n', grad);\n",
    "fprintf('Expected gradients:\\n');\n",
    "fprintf(' 0.146561\\n -0.548558\\n 0.724722\\n 1.398003\\n');\n",
    "\n",
    "fprintf('Program paused. Press enter to continue.\\n');\n",
    "%pause;"
   ]
  },
  {
   "cell_type": "markdown",
   "metadata": {},
   "source": [
    "## Part 2b: One-vs-All Training"
   ]
  },
  {
   "cell_type": "code",
   "execution_count": 24,
   "metadata": {},
   "outputs": [
    {
     "name": "stdout",
     "output_type": "stream",
     "text": [
      "\n",
      "Training One-vs-All Logistic Regression...\n",
      "Iteration    50 | Cost: 1.382626e-02\n",
      "Iteration    50 | Cost: 5.725248e-02\n",
      "Iteration    50 | Cost: 6.310662e-02\n",
      "Iteration    50 | Cost: 3.644332e-02\n",
      "Iteration    50 | Cost: 6.186295e-02\n",
      "Iteration    50 | Cost: 2.172860e-02\n",
      "Iteration    50 | Cost: 3.414857e-02\n",
      "Iteration    50 | Cost: 8.588242e-02\n",
      "Iteration    50 | Cost: 8.022990e-02\n",
      "Iteration    50 | Cost: 1.000504e-02\n",
      "Program paused. Press enter to continue.\n"
     ]
    }
   ],
   "source": [
    "fprintf('\\nTraining One-vs-All Logistic Regression...\\n')\n",
    "\n",
    "lambda = 0.1;\n",
    "[all_theta] = oneVsAll(X, y, num_labels, lambda);\n",
    "\n",
    "fprintf('Program paused. Press enter to continue.\\n');\n",
    "%pause;"
   ]
  },
  {
   "cell_type": "markdown",
   "metadata": {},
   "source": [
    "## Part 3: Predict for One-Vs-All"
   ]
  },
  {
   "cell_type": "code",
   "execution_count": 43,
   "metadata": {},
   "outputs": [
    {
     "name": "stdout",
     "output_type": "stream",
     "text": [
      "ans =\n",
      "\n",
      " Columns 1 through 6:\n",
      "\n",
      "   5.1346e-10   1.6977e-06   8.3233e-01   2.5714e-09   7.5755e-01   9.3636e-08\n",
      "   2.8485e-09   6.3713e-01   3.0104e-04   9.2637e-01   4.0492e-06   1.6807e-04\n",
      "   4.1866e-08   2.4616e-02   2.7261e-05   9.9990e-01   1.0259e-02   2.3689e-04\n",
      "   2.4344e-08   6.5249e-06   7.0168e-04   9.9961e-01   3.0882e-08   8.1107e-05\n",
      "   4.8628e-05   9.6714e-05   3.2526e-02   9.7214e-01   1.0211e-02   5.4342e-05\n",
      "   4.2925e-03   4.1707e-06   1.4666e-03   4.5346e-01   6.0306e-03   1.2875e-03\n",
      "   3.0017e-07   3.4930e-07   1.3522e-03   9.9968e-01   8.8601e-06   2.2282e-06\n",
      "   7.1103e-14   6.4772e-03   9.6269e-10   7.1740e-01   2.5382e-09   2.2668e-04\n",
      "   8.8281e-04   7.0750e-04   7.2588e-04   9.5651e-01   9.7050e-03   1.1712e-04\n",
      "   1.5753e-17   2.4378e-01   2.1239e-09   7.5764e-01   7.6240e-04   3.8129e-04\n",
      "   5.5446e-12   1.5362e-04   3.2455e-09   9.9845e-01   1.1591e-03   1.8427e-05\n",
      "\n",
      " Columns 7 through 10:\n",
      "\n",
      "   1.1075e-06   4.2704e-03   1.8628e-03   6.9726e-05\n",
      "   7.8434e-02   4.0427e-05   1.1847e-05   1.3946e-06\n",
      "   4.3827e-04   6.4458e-03   3.4913e-05   4.9905e-05\n",
      "   2.5275e-09   1.0688e-04   1.3136e-02   4.2305e-07\n",
      "   5.2102e-03   2.1465e-03   3.1919e-02   2.1635e-06\n",
      "   5.0542e-02   6.7619e-03   4.0804e-03   2.2422e-09\n",
      "   5.6296e-08   2.7327e-03   1.3206e-02   1.9011e-09\n",
      "   1.8300e-01   1.3470e-02   2.8145e-03   1.6752e-03\n",
      "   2.0631e-03   2.4251e-02   9.5665e-04   6.6351e-06\n",
      "   3.4914e-05   1.8437e-03   3.1435e-04   5.3714e-04\n",
      "   2.9037e-03   4.0678e-04   2.3074e-04   6.2937e-05\n",
      "\n",
      "ans =\n",
      "\n",
      "   3\n",
      "   4\n",
      "   4\n",
      "   4\n",
      "   4\n",
      "   4\n",
      "   4\n",
      "   4\n",
      "   4\n",
      "   4\n",
      "   4\n",
      "\n",
      "\n",
      "Training Set Accuracy: 94.960000\n"
     ]
    }
   ],
   "source": [
    "pred = predictOneVsAll(all_theta, X);\n",
    "fprintf('\\nTraining Set Accuracy: %f\\n', mean(double(pred == y)) * 100);"
   ]
  }
 ],
 "metadata": {
  "kernelspec": {
   "display_name": "Octave",
   "language": "octave",
   "name": "octave"
  },
  "language_info": {
   "file_extension": ".m",
   "help_links": [
    {
     "text": "GNU Octave",
     "url": "https://www.gnu.org/software/octave/support.html"
    },
    {
     "text": "Octave Kernel",
     "url": "https://github.com/Calysto/octave_kernel"
    },
    {
     "text": "MetaKernel Magics",
     "url": "https://github.com/calysto/metakernel/blob/master/metakernel/magics/README.md"
    }
   ],
   "mimetype": "text/x-octave",
   "name": "octave",
   "version": "4.2.1"
  }
 },
 "nbformat": 4,
 "nbformat_minor": 2
}
