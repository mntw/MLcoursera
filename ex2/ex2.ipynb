{
 "cells": [
  {
   "cell_type": "markdown",
   "metadata": {},
   "source": [
    "# Machine Learning Online Class - Exercise 2: Logistic Regression\n",
    "\n",
    "## Instructions\n",
    "\n",
    "      This file contains code that helps you get started on the logistic\n",
    "      regression exercise. You will need to complete the following functions \n",
    "      in this exericse:\n",
    "\n",
    "         sigmoid.m\n",
    "         costFunction.m\n",
    "         predict.m\n",
    "         costFunctionReg.m\n",
    "\n",
    "      For this exercise, you will not need to change any code in this file,\n",
    "      or any other files other than those mentioned above."
   ]
  },
  {
   "cell_type": "code",
   "execution_count": 1,
   "metadata": {},
   "outputs": [],
   "source": [
    "%% Initialization\n",
    "clear ; close all; clc\n",
    "\n",
    "%% Load Data\n",
    "%  The first two columns contains the exam scores and the third column\n",
    "%  contains the label.\n",
    "\n",
    "data = load('ex2data1.txt');\n",
    "X = data(:, [1, 2]); y = data(:, 3);"
   ]
  },
  {
   "cell_type": "markdown",
   "metadata": {},
   "source": [
    "## Part 1: Plotting\n",
    "    We start the exercise by first plotting the data to understand the \n",
    "    the problem we are working with."
   ]
  },
  {
   "cell_type": "code",
   "execution_count": 2,
   "metadata": {},
   "outputs": [
    {
     "name": "stdout",
     "output_type": "stream",
     "text": [
      "Plotting data with + indicating (y = 1) examples and o indicating (y = 0) examples.\n",
      "\n",
      "Program paused. Press enter to continue.\n"
     ]
    },
    {
     "data": {
      "image/png": "[encoded data removed]",
      "text/plain": [
       "<IPython.core.display.Image object>"
      ]
     },
     "metadata": {},
     "output_type": "display_data"
    }
   ],
   "source": [
    "fprintf(['Plotting data with + indicating (y = 1) examples and o ' ...\n",
    "         'indicating (y = 0) examples.\\n']);\n",
    "\n",
    "plotData(X, y);\n",
    "\n",
    "% Put some labels \n",
    "hold on;\n",
    "% Labels and Legend\n",
    "xlabel('Exam 1 score')\n",
    "ylabel('Exam 2 score')\n",
    "\n",
    "% Specified in plot order\n",
    "legend('Admitted', 'Not admitted')\n",
    "hold off;\n",
    "\n",
    "fprintf('\\nProgram paused. Press enter to continue.\\n');\n",
    "%pause;"
   ]
  },
  {
   "cell_type": "markdown",
   "metadata": {},
   "source": [
    "## Part 2: Compute Cost and Gradient \n",
    "      In this part of the exercise, you will implement the cost and gradient\n",
    "      for logistic regression. You neeed to complete the code in \n",
    "      costFunction.m"
   ]
  },
  {
   "cell_type": "code",
   "execution_count": 44,
   "metadata": {},
   "outputs": [
    {
     "name": "stdout",
     "output_type": "stream",
     "text": [
      "Cost at initial theta (zeros): 0.693147\n",
      "Expected cost (approx): 0.693\n",
      "Gradient at initial theta (zeros): \n",
      " -0.100000 \n",
      " -12.009217 \n",
      " -11.262842 \n",
      "Expected gradients (approx):\n",
      " -0.1000\n",
      " -12.0092\n",
      " -11.2628\n",
      "\n",
      "Cost at test theta: 0.218330\n",
      "Expected cost (approx): 0.218\n",
      "Gradient at test theta: \n",
      " 0.042903 \n",
      " 2.566234 \n",
      " 2.646797 \n",
      "Expected gradients (approx):\n",
      " 0.043\n",
      " 2.566\n",
      " 2.647\n",
      "\n",
      "Program paused. Press enter to continue.\n"
     ]
    }
   ],
   "source": [
    "X = data(:, [1, 2]); \n",
    "y = data(:, 3);\n",
    "%  Setup the data matrix appropriately, and add ones for the intercept term\n",
    "[m, n] = size(X);\n",
    "\n",
    "% Add intercept term to x and X_test\n",
    "X = [ones(m, 1) X];\n",
    "\n",
    "% Initialize fitting parameters\n",
    "initial_theta = zeros(n + 1, 1);\n",
    "\n",
    "% Compute and display initial cost and gradient\n",
    "[cost, grad] = costFunction(initial_theta, X, y);\n",
    "\n",
    "fprintf('Cost at initial theta (zeros): %f\\n', cost);\n",
    "fprintf('Expected cost (approx): 0.693\\n');\n",
    "fprintf('Gradient at initial theta (zeros): \\n');\n",
    "fprintf(' %f \\n', grad);\n",
    "fprintf('Expected gradients (approx):\\n -0.1000\\n -12.0092\\n -11.2628\\n');\n",
    "\n",
    "% Compute and display cost and gradient with non-zero theta\n",
    "test_theta = [-24; 0.2; 0.2];\n",
    "[cost, grad] = costFunction(test_theta, X, y);\n",
    "\n",
    "fprintf('\\nCost at test theta: %f\\n', cost);\n",
    "fprintf('Expected cost (approx): 0.218\\n');\n",
    "fprintf('Gradient at test theta: \\n');\n",
    "fprintf(' %f \\n', grad);\n",
    "fprintf('Expected gradients (approx):\\n 0.043\\n 2.566\\n 2.647\\n');\n",
    "\n",
    "fprintf('\\nProgram paused. Press enter to continue.\\n');\n",
    "%pause;"
   ]
  },
  {
   "cell_type": "markdown",
   "metadata": {},
   "source": [
    "## Part 3: Optimizing using fminunc\n",
    "    In this exercise, you will use a built-in function (fminunc) to find the\n",
    "    optimal parameters theta.\n",
    "\n",
    "    Set options for fminunc"
   ]
  },
  {
   "cell_type": "code",
   "execution_count": 48,
   "metadata": {},
   "outputs": [
    {
     "name": "stdout",
     "output_type": "stream",
     "text": [
      "Cost at theta found by fminunc: 0.203498\n",
      "Expected cost (approx): 0.203\n",
      "theta: \n",
      " -25.161272 \n",
      " 0.206233 \n",
      " 0.201470 \n",
      "Expected theta (approx):\n",
      " -25.161\n",
      " 0.206\n",
      " 0.201\n",
      "\n",
      "Program paused. Press enter to continue.\n"
     ]
    },
    {
     "data": {
      "image/png": "[encoded data removed]",
      "text/plain": [
       "<IPython.core.display.Image object>"
      ]
     },
     "metadata": {},
     "output_type": "display_data"
    }
   ],
   "source": [
    "options = optimset('GradObj', 'on', 'MaxIter', 400);\n",
    "\n",
    "%  Run fminunc to obtain the optimal theta\n",
    "%  This function will return theta and the cost \n",
    "[theta, cost] = ...\n",
    "\tfminunc(@(t)(costFunction(t, X, y)), initial_theta, options);\n",
    "\n",
    "% Print theta to screen\n",
    "fprintf('Cost at theta found by fminunc: %f\\n', cost);\n",
    "fprintf('Expected cost (approx): 0.203\\n');\n",
    "fprintf('theta: \\n');\n",
    "fprintf(' %f \\n', theta);\n",
    "fprintf('Expected theta (approx):\\n');\n",
    "fprintf(' -25.161\\n 0.206\\n 0.201\\n');\n",
    "\n",
    "% Plot Boundary\n",
    "plotDecisionBoundary(theta, X, y);\n",
    "\n",
    "% Put some labels \n",
    "hold on;\n",
    "% Labels and Legend\n",
    "xlabel('Exam 1 score')\n",
    "ylabel('Exam 2 score')\n",
    "\n",
    "% Specified in plot order\n",
    "legend('Admitted', 'Not admitted')\n",
    "hold off;\n",
    "\n",
    "fprintf('\\nProgram paused. Press enter to continue.\\n');\n",
    "%pause;"
   ]
  },
  {
   "cell_type": "markdown",
   "metadata": {},
   "source": [
    "## Part 4: Predict and Accuracies\n",
    "\n",
    "      After learning the parameters, you'll like to use it to predict the outcomes\n",
    "      on unseen data. In this part, you will use the logistic regression model\n",
    "      to predict the probability that a student with score 45 on exam 1 and \n",
    "      score 85 on exam 2 will be admitted.\n",
    "\n",
    "      Furthermore, you will compute the training and test set accuracies of \n",
    "      our model.\n",
    "\n",
    "      Your task is to complete the code in predict.m\n",
    "\n",
    "      Predict probability for a student with score 45 on exam 1 \n",
    "      and score 85 on exam 2 "
   ]
  },
  {
   "cell_type": "code",
   "execution_count": 67,
   "metadata": {},
   "outputs": [
    {
     "name": "stdout",
     "output_type": "stream",
     "text": [
      "For a student with scores 45 and 85, we predict an admission probability of 0.776289\n",
      "Expected value: 0.775 +/- 0.002\n",
      "\n",
      "Train Accuracy: 89.000000\n",
      "Expected accuracy (approx): 89.0\n",
      "\n"
     ]
    }
   ],
   "source": [
    "prob = sigmoid([1 45 85] * theta);\n",
    "fprintf(['For a student with scores 45 and 85, we predict an admission ' ...\n",
    "         'probability of %f\\n'], prob);\n",
    "fprintf('Expected value: 0.775 +/- 0.002\\n\\n');\n",
    "\n",
    "% Compute accuracy on our training set\n",
    "p = predict(theta, X);\n",
    "\n",
    "fprintf('Train Accuracy: %f\\n', mean(double(p == y)) * 100);\n",
    "fprintf('Expected accuracy (approx): 89.0\\n');\n",
    "fprintf('\\n');"
   ]
  }
 ],
 "metadata": {
  "kernelspec": {
   "display_name": "Octave",
   "language": "octave",
   "name": "octave"
  },
  "language_info": {
   "file_extension": ".m",
   "help_links": [
    {
     "text": "GNU Octave",
     "url": "https://www.gnu.org/software/octave/support.html"
    },
    {
     "text": "Octave Kernel",
     "url": "https://github.com/Calysto/octave_kernel"
    },
    {
     "text": "MetaKernel Magics",
     "url": "https://github.com/calysto/metakernel/blob/master/metakernel/magics/README.md"
    }
   ],
   "mimetype": "text/x-octave",
   "name": "octave",
   "version": "4.2.1"
  }
 },
 "nbformat": 4,
 "nbformat_minor": 2
}
